{
 "cells": [
  {
   "cell_type": "code",
   "execution_count": 1,
   "metadata": {},
   "outputs": [],
   "source": [
    "from torchvision import models\n",
    "from torchsummary import summary\n",
    "import torch.nn as nn\n",
    "from torch.autograd import Variable"
   ]
  },
  {
   "cell_type": "code",
   "execution_count": 9,
   "metadata": {},
   "outputs": [
    {
     "name": "stdout",
     "output_type": "stream",
     "text": [
      "torch.Size([10, 1, 3])\n"
     ]
    }
   ],
   "source": [
    "import torch\n",
    "batch_size = 4\n",
    "max_length = 3\n",
    "hidden_size = 2\n",
    "n_layers =1\n",
    "\n",
    "# container\n",
    "batch_in = torch.zeros((batch_size, max_length))\n",
    "\n",
    "#data\n",
    "vec_1 = torch.FloatTensor([1, 2, 3])\n",
    "vec_2 = torch.FloatTensor([1, 2, 0])\n",
    "vec_3 = torch.FloatTensor([1, 0, 0])\n",
    "vec_4 = torch.FloatTensor([1, 0, 0])\n",
    "\n",
    "batch_in[0] = vec_1\n",
    "batch_in[1] = vec_2\n",
    "batch_in[2] = vec_3\n",
    "batch_in[3] = vec_4\n",
    "\n",
    "batch_in = Variable(batch_in)\n",
    "\n",
    "seq_lengths = [3,2,1,1] # list of integers holding information about the batch size at each sequence step\n",
    "\n",
    "test = vec_1.expand(10, 3).unsqueeze(1)\n",
    "print(test.size())\n",
    "# pack it\n",
    "#batch_in = batch_in[:, 1:]\n",
    "#vec_gpu = vec_1.cuda()\n",
    "#vec_gpu = vec_gpu - 1\n",
    "#print(vec_gpu.cpu())\n",
    "#print(batch_in)\n",
    "#pack = torch.nn.utils.rnn.pack_padded_sequence(batch_in, seq_lengths, batch_first=True)\n",
    "#print(pack)\n",
    "#print(pack.data)"
   ]
  },
  {
   "cell_type": "code",
   "execution_count": null,
   "metadata": {},
   "outputs": [],
   "source": []
  }
 ],
 "metadata": {
  "kernelspec": {
   "display_name": "Python 3",
   "language": "python",
   "name": "python3"
  },
  "language_info": {
   "codemirror_mode": {
    "name": "ipython",
    "version": 3
   },
   "file_extension": ".py",
   "mimetype": "text/x-python",
   "name": "python",
   "nbconvert_exporter": "python",
   "pygments_lexer": "ipython3",
   "version": "3.6.5"
  }
 },
 "nbformat": 4,
 "nbformat_minor": 2
}
